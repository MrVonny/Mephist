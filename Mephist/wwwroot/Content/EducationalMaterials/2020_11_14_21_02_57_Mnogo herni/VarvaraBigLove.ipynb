{
 "cells": [
  {
   "cell_type": "code",
   "execution_count": 11,
   "metadata": {},
   "outputs": [
    {
     "name": "stdout",
     "output_type": "stream",
     "text": [
      "10\n",
      "1 3 5\n",
      "YES\n",
      "HELP\n",
      "1 3 5\n"
     ]
    }
   ],
   "source": [
    "n = input()\n",
    "can=set(range(1,int(n)+1))\n",
    "cant=set()\n",
    "\n",
    "while True:\n",
    "    inpFriends = input()\n",
    "    if inpFriends == \"HELP\":\n",
    "        break\n",
    "    ans = input()\n",
    "    inpFriends=set(map(int,inpFriends.split()))\n",
    "    if ans == 'YES':\n",
    "        can=can.intersection(inpFriends)\n",
    "    else:\n",
    "        cant=cant.union(inpFriends)\n",
    "        \n",
    "output=list()\n",
    "for r in sorted(can-cant):\n",
    "    output.append(str(r))\n",
    "\n",
    "    \n",
    "print(' '.join(output))\n",
    "\n"
   ]
  },
  {
   "cell_type": "code",
   "execution_count": null,
   "metadata": {},
   "outputs": [],
   "source": []
  },
  {
   "cell_type": "code",
   "execution_count": null,
   "metadata": {},
   "outputs": [],
   "source": []
  },
  {
   "cell_type": "code",
   "execution_count": null,
   "metadata": {},
   "outputs": [],
   "source": []
  }
 ],
 "metadata": {
  "kernelspec": {
   "display_name": "Python 3",
   "language": "python",
   "name": "python3"
  },
  "language_info": {
   "codemirror_mode": {
    "name": "ipython",
    "version": 3
   },
   "file_extension": ".py",
   "mimetype": "text/x-python",
   "name": "python",
   "nbconvert_exporter": "python",
   "pygments_lexer": "ipython3",
   "version": "3.7.3"
  }
 },
 "nbformat": 4,
 "nbformat_minor": 4
}
